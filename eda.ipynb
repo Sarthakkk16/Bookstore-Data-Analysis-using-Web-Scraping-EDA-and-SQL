{
 "cells": [
  {
   "cell_type": "code",
   "execution_count": 2,
   "id": "d6cd0d0e",
   "metadata": {},
   "outputs": [],
   "source": [
    "import pandas as pd\n",
    "import numpy as np\n",
    "import matplotlib.pyplot as plt\n",
    "import seaborn as sns\n",
    "import warnings\n",
    "warnings.filterwarnings('ignore')\n"
   ]
  },
  {
   "cell_type": "markdown",
   "id": "4ca1c4e7",
   "metadata": {},
   "source": [
    "# Q1. What is the distribution of book prices?"
   ]
  },
  {
   "cell_type": "code",
   "execution_count": 3,
   "id": "0c52e986",
   "metadata": {},
   "outputs": [],
   "source": [
    "df = pd.read_csv('books1.csv')"
   ]
  },
  {
   "cell_type": "code",
   "execution_count": 4,
   "id": "d9b2c96d",
   "metadata": {},
   "outputs": [
    {
     "data": {
      "text/html": [
       "<div>\n",
       "<style scoped>\n",
       "    .dataframe tbody tr th:only-of-type {\n",
       "        vertical-align: middle;\n",
       "    }\n",
       "\n",
       "    .dataframe tbody tr th {\n",
       "        vertical-align: top;\n",
       "    }\n",
       "\n",
       "    .dataframe thead th {\n",
       "        text-align: right;\n",
       "    }\n",
       "</style>\n",
       "<table border=\"1\" class=\"dataframe\">\n",
       "  <thead>\n",
       "    <tr style=\"text-align: right;\">\n",
       "      <th></th>\n",
       "      <th>Title</th>\n",
       "      <th>Price</th>\n",
       "      <th>Star</th>\n",
       "      <th>category</th>\n",
       "      <th>availability</th>\n",
       "    </tr>\n",
       "  </thead>\n",
       "  <tbody>\n",
       "    <tr>\n",
       "      <th>0</th>\n",
       "      <td>A Light in the Attic</td>\n",
       "      <td>51.77</td>\n",
       "      <td>Three</td>\n",
       "      <td>Poetry</td>\n",
       "      <td>22</td>\n",
       "    </tr>\n",
       "    <tr>\n",
       "      <th>1</th>\n",
       "      <td>Tipping the Velvet</td>\n",
       "      <td>53.74</td>\n",
       "      <td>One</td>\n",
       "      <td>Historical Fiction</td>\n",
       "      <td>20</td>\n",
       "    </tr>\n",
       "    <tr>\n",
       "      <th>2</th>\n",
       "      <td>Soumission</td>\n",
       "      <td>50.10</td>\n",
       "      <td>One</td>\n",
       "      <td>Fiction</td>\n",
       "      <td>20</td>\n",
       "    </tr>\n",
       "    <tr>\n",
       "      <th>3</th>\n",
       "      <td>Sharp Objects</td>\n",
       "      <td>47.82</td>\n",
       "      <td>Four</td>\n",
       "      <td>Mystery</td>\n",
       "      <td>20</td>\n",
       "    </tr>\n",
       "    <tr>\n",
       "      <th>4</th>\n",
       "      <td>Sapiens: A Brief History of Humankind</td>\n",
       "      <td>54.23</td>\n",
       "      <td>Five</td>\n",
       "      <td>History</td>\n",
       "      <td>20</td>\n",
       "    </tr>\n",
       "    <tr>\n",
       "      <th>...</th>\n",
       "      <td>...</td>\n",
       "      <td>...</td>\n",
       "      <td>...</td>\n",
       "      <td>...</td>\n",
       "      <td>...</td>\n",
       "    </tr>\n",
       "    <tr>\n",
       "      <th>995</th>\n",
       "      <td>Alice in Wonderland (Alice's Adventures in Won...</td>\n",
       "      <td>55.53</td>\n",
       "      <td>One</td>\n",
       "      <td>Classics</td>\n",
       "      <td>1</td>\n",
       "    </tr>\n",
       "    <tr>\n",
       "      <th>996</th>\n",
       "      <td>Ajin: Demi-Human, Volume 1 (Ajin: Demi-Human #1)</td>\n",
       "      <td>57.06</td>\n",
       "      <td>Four</td>\n",
       "      <td>Sequential Art</td>\n",
       "      <td>1</td>\n",
       "    </tr>\n",
       "    <tr>\n",
       "      <th>997</th>\n",
       "      <td>A Spy's Devotion (The Regency Spies of London #1)</td>\n",
       "      <td>16.97</td>\n",
       "      <td>Five</td>\n",
       "      <td>Historical Fiction</td>\n",
       "      <td>1</td>\n",
       "    </tr>\n",
       "    <tr>\n",
       "      <th>998</th>\n",
       "      <td>1st to Die (Women's Murder Club #1)</td>\n",
       "      <td>53.98</td>\n",
       "      <td>One</td>\n",
       "      <td>Mystery</td>\n",
       "      <td>1</td>\n",
       "    </tr>\n",
       "    <tr>\n",
       "      <th>999</th>\n",
       "      <td>1,000 Places to See Before You Die</td>\n",
       "      <td>26.08</td>\n",
       "      <td>Five</td>\n",
       "      <td>Travel</td>\n",
       "      <td>1</td>\n",
       "    </tr>\n",
       "  </tbody>\n",
       "</table>\n",
       "<p>1000 rows × 5 columns</p>\n",
       "</div>"
      ],
      "text/plain": [
       "                                                 Title  Price   Star  \\\n",
       "0                                 A Light in the Attic  51.77  Three   \n",
       "1                                   Tipping the Velvet  53.74    One   \n",
       "2                                           Soumission  50.10    One   \n",
       "3                                        Sharp Objects  47.82   Four   \n",
       "4                Sapiens: A Brief History of Humankind  54.23   Five   \n",
       "..                                                 ...    ...    ...   \n",
       "995  Alice in Wonderland (Alice's Adventures in Won...  55.53    One   \n",
       "996   Ajin: Demi-Human, Volume 1 (Ajin: Demi-Human #1)  57.06   Four   \n",
       "997  A Spy's Devotion (The Regency Spies of London #1)  16.97   Five   \n",
       "998                1st to Die (Women's Murder Club #1)  53.98    One   \n",
       "999                 1,000 Places to See Before You Die  26.08   Five   \n",
       "\n",
       "               category  availability  \n",
       "0                Poetry            22  \n",
       "1    Historical Fiction            20  \n",
       "2               Fiction            20  \n",
       "3               Mystery            20  \n",
       "4               History            20  \n",
       "..                  ...           ...  \n",
       "995            Classics             1  \n",
       "996      Sequential Art             1  \n",
       "997  Historical Fiction             1  \n",
       "998             Mystery             1  \n",
       "999              Travel             1  \n",
       "\n",
       "[1000 rows x 5 columns]"
      ]
     },
     "execution_count": 4,
     "metadata": {},
     "output_type": "execute_result"
    }
   ],
   "source": [
    "df"
   ]
  },
  {
   "cell_type": "code",
   "execution_count": 5,
   "id": "6c6a820e",
   "metadata": {},
   "outputs": [
    {
     "name": "stdout",
     "output_type": "stream",
     "text": [
      "<class 'pandas.core.frame.DataFrame'>\n",
      "RangeIndex: 1000 entries, 0 to 999\n",
      "Data columns (total 5 columns):\n",
      " #   Column        Non-Null Count  Dtype  \n",
      "---  ------        --------------  -----  \n",
      " 0   Title         1000 non-null   object \n",
      " 1   Price         1000 non-null   float64\n",
      " 2   Star          1000 non-null   object \n",
      " 3   category      1000 non-null   object \n",
      " 4   availability  1000 non-null   int64  \n",
      "dtypes: float64(1), int64(1), object(3)\n",
      "memory usage: 39.2+ KB\n"
     ]
    }
   ],
   "source": [
    "df.info()"
   ]
  },
  {
   "cell_type": "code",
   "execution_count": 6,
   "id": "887c1672",
   "metadata": {},
   "outputs": [
    {
     "data": {
      "text/plain": [
       "Index(['Title', 'Price', 'Star', 'category', 'availability'], dtype='object')"
      ]
     },
     "execution_count": 6,
     "metadata": {},
     "output_type": "execute_result"
    }
   ],
   "source": [
    "df.columns"
   ]
  },
  {
   "cell_type": "code",
   "execution_count": 7,
   "id": "946929ee",
   "metadata": {},
   "outputs": [
    {
     "data": {
      "image/png": "[encoded data removed]",
      "text/plain": [
       "<Figure size 640x480 with 1 Axes>"
      ]
     },
     "metadata": {},
     "output_type": "display_data"
    }
   ],
   "source": [
    "sns.histplot(df['Price'], bins = 30, kde = True, color = 'skyblue')\n",
    "plt.title('Distribution of Book Prices')\n",
    "plt.xlabel('Price')\n",
    "plt.ylabel('Frequency')\n",
    "plt.show()"
   ]
  },
  {
   "cell_type": "markdown",
   "id": "df3b61ea",
   "metadata": {},
   "source": [
    "# Q2. Are there any outliers in book prices?"
   ]
  },
  {
   "cell_type": "code",
   "execution_count": 8,
   "id": "5615d736",
   "metadata": {},
   "outputs": [
    {
     "data": {
      "image/png": "[encoded data removed]",
      "text/plain": [
       "<Figure size 800x500 with 1 Axes>"
      ]
     },
     "metadata": {},
     "output_type": "display_data"
    }
   ],
   "source": [
    "plt.figure(figsize=(8, 5))\n",
    "sns.boxplot(x=df['Price'], color='lightcoral')\n",
    "plt.title('Boxplot of Book Prices')\n",
    "plt.xlabel('Price')\n",
    "plt.show()"
   ]
  },
  {
   "cell_type": "markdown",
   "id": "014e2333",
   "metadata": {},
   "source": [
    "# Q3.\tWhat is the frequency of each star rating?"
   ]
  },
  {
   "cell_type": "code",
   "execution_count": 9,
   "id": "70d6a6a2",
   "metadata": {},
   "outputs": [
    {
     "data": {
      "text/plain": [
       "Index(['Title', 'Price', 'Star', 'category', 'availability'], dtype='object')"
      ]
     },
     "execution_count": 9,
     "metadata": {},
     "output_type": "execute_result"
    }
   ],
   "source": [
    "df.columns"
   ]
  },
  {
   "cell_type": "code",
   "execution_count": 10,
   "id": "b83a4f1f",
   "metadata": {},
   "outputs": [
    {
     "name": "stdout",
     "output_type": "stream",
     "text": [
      "Star\n",
      "One      226\n",
      "Three    203\n",
      "Five     196\n",
      "Two      196\n",
      "Four     179\n",
      "Name: count, dtype: int64\n"
     ]
    }
   ],
   "source": [
    "star_rating = df['Star'].value_counts()\n",
    "print(star_rating)"
   ]
  },
  {
   "cell_type": "markdown",
   "id": "297402a7",
   "metadata": {},
   "source": [
    "# Q4.\tWhich categories are most and least represented?"
   ]
  },
  {
   "cell_type": "code",
   "execution_count": 11,
   "id": "761b80f0",
   "metadata": {},
   "outputs": [
    {
     "data": {
      "text/plain": [
       "Index(['Title', 'Price', 'Star', 'category', 'availability'], dtype='object')"
      ]
     },
     "execution_count": 11,
     "metadata": {},
     "output_type": "execute_result"
    }
   ],
   "source": [
    "df.columns"
   ]
  },
  {
   "cell_type": "code",
   "execution_count": 12,
   "id": "a5c14590",
   "metadata": {},
   "outputs": [
    {
     "data": {
      "text/plain": [
       "0                  Poetry\n",
       "1      Historical Fiction\n",
       "2                 Fiction\n",
       "3                 Mystery\n",
       "4                 History\n",
       "              ...        \n",
       "995              Classics\n",
       "996        Sequential Art\n",
       "997    Historical Fiction\n",
       "998               Mystery\n",
       "999                Travel\n",
       "Name: category, Length: 1000, dtype: object"
      ]
     },
     "execution_count": 12,
     "metadata": {},
     "output_type": "execute_result"
    }
   ],
   "source": [
    "df['category']"
   ]
  },
  {
   "cell_type": "code",
   "execution_count": 13,
   "id": "ccba837c",
   "metadata": {},
   "outputs": [
    {
     "name": "stdout",
     "output_type": "stream",
     "text": [
      "Most Represented: Default with 152 books\n",
      "least_represented category Crime with 1 books\n"
     ]
    }
   ],
   "source": [
    "category_counts = df['category'].value_counts()\n",
    "\n",
    "most_represented = category_counts.idxmax()\n",
    "least_represented = category_counts.idxmin()\n",
    "\n",
    "print('Most Represented:',most_represented, 'with', category_counts.max(),'books')\n",
    "print('least_represented category', least_represented, 'with', category_counts.min(),'books')"
   ]
  },
  {
   "cell_type": "markdown",
   "id": "38c9922f",
   "metadata": {},
   "source": [
    "# Q5.\tWhat is the average price of books per category?"
   ]
  },
  {
   "cell_type": "code",
   "execution_count": 14,
   "id": "0f59b2fd",
   "metadata": {},
   "outputs": [
    {
     "data": {
      "text/plain": [
       "Index(['Title', 'Price', 'Star', 'category', 'availability'], dtype='object')"
      ]
     },
     "execution_count": 14,
     "metadata": {},
     "output_type": "execute_result"
    }
   ],
   "source": [
    "df.columns"
   ]
  },
  {
   "cell_type": "code",
   "execution_count": 15,
   "id": "ba53e16e",
   "metadata": {},
   "outputs": [
    {
     "name": "stdout",
     "output_type": "stream",
     "text": [
      "category\n",
      "Academic              13.120000\n",
      "Add a comment         35.796418\n",
      "Adult Fiction         15.360000\n",
      "Art                   38.520000\n",
      "Autobiography         37.053333\n",
      "Biography             33.662000\n",
      "Business              32.460000\n",
      "Childrens             32.638276\n",
      "Christian             42.496667\n",
      "Christian Fiction     34.385000\n",
      "Classics              36.545263\n",
      "Contemporary          36.200000\n",
      "Crime                 10.970000\n",
      "Cultural              36.580000\n",
      "Default               34.392697\n",
      "Erotica               19.190000\n",
      "Fantasy               39.593958\n",
      "Fiction               36.066615\n",
      "Food and Drink        31.414667\n",
      "Health                51.452500\n",
      "Historical            22.830000\n",
      "Historical Fiction    33.644231\n",
      "History               37.295000\n",
      "Horror                35.949412\n",
      "Humor                 33.501000\n",
      "Music                 35.636923\n",
      "Mystery               31.719062\n",
      "New Adult             46.383333\n",
      "Nonfiction            34.260182\n",
      "Novels                54.810000\n",
      "Paranormal            15.400000\n",
      "Parenting             37.350000\n",
      "Philosophy            33.558182\n",
      "Poetry                35.974211\n",
      "Politics              53.613333\n",
      "Psychology            34.218571\n",
      "Religion              32.567143\n",
      "Romance               33.933714\n",
      "Science               33.088571\n",
      "Science Fiction       33.802500\n",
      "Self Help             40.620000\n",
      "Sequential Art        34.572267\n",
      "Short Stories         35.880000\n",
      "Spirituality          35.098333\n",
      "Sports and Games      41.166000\n",
      "Suspense              58.330000\n",
      "Thriller              31.433636\n",
      "Travel                39.794545\n",
      "Womens Fiction        36.791176\n",
      "Young Adult           35.449074\n",
      "Name: Price, dtype: float64\n"
     ]
    }
   ],
   "source": [
    "average_price_per_category = df.groupby('category')['Price'].mean()\n",
    "print(average_price_per_category)"
   ]
  },
  {
   "cell_type": "markdown",
   "id": "566aa016",
   "metadata": {},
   "source": [
    "# Q6.\tHow does price vary across star ratings?"
   ]
  },
  {
   "cell_type": "code",
   "execution_count": 16,
   "id": "9540a368",
   "metadata": {},
   "outputs": [
    {
     "data": {
      "text/plain": [
       "Index(['Title', 'Price', 'Star', 'category', 'availability'], dtype='object')"
      ]
     },
     "execution_count": 16,
     "metadata": {},
     "output_type": "execute_result"
    }
   ],
   "source": [
    "df.columns"
   ]
  },
  {
   "cell_type": "code",
   "execution_count": 17,
   "id": "ec46aa69",
   "metadata": {},
   "outputs": [
    {
     "name": "stdout",
     "output_type": "stream",
     "text": [
      "Star\n",
      "Five     35.374490\n",
      "Four     36.093296\n",
      "One      34.561195\n",
      "Three    34.692020\n",
      "Two      34.810918\n",
      "Name: Price, dtype: float64\n"
     ]
    }
   ],
   "source": [
    "price_by_rating = df.groupby('Star')['Price'].mean()\n",
    "print(price_by_rating)"
   ]
  },
  {
   "cell_type": "code",
   "execution_count": 18,
   "id": "98622f2f",
   "metadata": {},
   "outputs": [
    {
     "data": {
      "image/png": "[encoded data removed]",
      "text/plain": [
       "<Figure size 640x480 with 1 Axes>"
      ]
     },
     "metadata": {},
     "output_type": "display_data"
    }
   ],
   "source": [
    "sns.barplot(x='Star', y='Price', data=df, estimator=lambda x: sum(x)/len(x))\n",
    "plt.title('Average Price by Star Rating')\n",
    "plt.show()"
   ]
  },
  {
   "cell_type": "markdown",
   "id": "79226f96",
   "metadata": {},
   "source": [
    "# Q7.\tAre books with higher star ratings more expensive"
   ]
  },
  {
   "cell_type": "code",
   "execution_count": 19,
   "id": "a44f5940",
   "metadata": {},
   "outputs": [
    {
     "data": {
      "text/plain": [
       "Index(['Title', 'Price', 'Star', 'category', 'availability'], dtype='object')"
      ]
     },
     "execution_count": 19,
     "metadata": {},
     "output_type": "execute_result"
    }
   ],
   "source": [
    "df.columns"
   ]
  },
  {
   "cell_type": "code",
   "execution_count": 20,
   "id": "193d2a5b",
   "metadata": {},
   "outputs": [
    {
     "data": {
      "text/plain": [
       "0      Three\n",
       "1        One\n",
       "2        One\n",
       "3       Four\n",
       "4       Five\n",
       "       ...  \n",
       "995      One\n",
       "996     Four\n",
       "997     Five\n",
       "998      One\n",
       "999     Five\n",
       "Name: Star, Length: 1000, dtype: object"
      ]
     },
     "execution_count": 20,
     "metadata": {},
     "output_type": "execute_result"
    }
   ],
   "source": [
    "df['Star']"
   ]
  },
  {
   "cell_type": "code",
   "execution_count": 21,
   "id": "4b9731d4",
   "metadata": {},
   "outputs": [
    {
     "data": {
      "text/plain": [
       "<bound method Series.info of 0      51.77\n",
       "1      53.74\n",
       "2      50.10\n",
       "3      47.82\n",
       "4      54.23\n",
       "       ...  \n",
       "995    55.53\n",
       "996    57.06\n",
       "997    16.97\n",
       "998    53.98\n",
       "999    26.08\n",
       "Name: Price, Length: 1000, dtype: float64>"
      ]
     },
     "execution_count": 21,
     "metadata": {},
     "output_type": "execute_result"
    }
   ],
   "source": [
    "df['Price'].info"
   ]
  },
  {
   "cell_type": "code",
   "execution_count": 22,
   "id": "5b16b4b3",
   "metadata": {},
   "outputs": [
    {
     "name": "stdout",
     "output_type": "stream",
     "text": [
      "Star\n",
      "Five     35.374490\n",
      "Four     36.093296\n",
      "One      34.561195\n",
      "Three    34.692020\n",
      "Two      34.810918\n",
      "Name: Price, dtype: float64\n"
     ]
    }
   ],
   "source": [
    "price_by_rating = df.groupby('Star')['Price'].mean()\n",
    "print(price_by_rating)\n"
   ]
  },
  {
   "cell_type": "markdown",
   "id": "89f42d12",
   "metadata": {},
   "source": [
    "# Q8.\tAre there categories where all books have the same rating?"
   ]
  },
  {
   "cell_type": "code",
   "execution_count": 23,
   "id": "180b4c45",
   "metadata": {},
   "outputs": [
    {
     "data": {
      "text/plain": [
       "Index(['Title', 'Price', 'Star', 'category', 'availability'], dtype='object')"
      ]
     },
     "execution_count": 23,
     "metadata": {},
     "output_type": "execute_result"
    }
   ],
   "source": [
    "df.columns"
   ]
  },
  {
   "cell_type": "code",
   "execution_count": 24,
   "id": "4a5468f9",
   "metadata": {},
   "outputs": [
    {
     "name": "stdout",
     "output_type": "stream",
     "text": [
      "['Academic', 'Adult Fiction', 'Crime', 'Cultural', 'Erotica', 'Novels', 'Paranormal', 'Parenting', 'Short Stories', 'Suspense']\n"
     ]
    }
   ],
   "source": [
    "same_rating = df.groupby('category')['Star'].nunique()\n",
    "categories_with_same_rating = same_rating[same_rating==1].index.tolist()\n",
    "print(categories_with_same_rating)\n"
   ]
  },
  {
   "cell_type": "markdown",
   "id": "8bc8d6b3",
   "metadata": {},
   "source": [
    "# Q9.\tHow many books are listed as in stock?"
   ]
  },
  {
   "cell_type": "code",
   "execution_count": 25,
   "id": "d4fc300d",
   "metadata": {},
   "outputs": [
    {
     "data": {
      "text/plain": [
       "0      22\n",
       "1      20\n",
       "2      20\n",
       "3      20\n",
       "4      20\n",
       "       ..\n",
       "995     1\n",
       "996     1\n",
       "997     1\n",
       "998     1\n",
       "999     1\n",
       "Name: availability, Length: 1000, dtype: int64"
      ]
     },
     "execution_count": 25,
     "metadata": {},
     "output_type": "execute_result"
    }
   ],
   "source": [
    "df['availability']"
   ]
  },
  {
   "cell_type": "code",
   "execution_count": 26,
   "id": "20df8b18",
   "metadata": {},
   "outputs": [
    {
     "name": "stdout",
     "output_type": "stream",
     "text": [
      "Number of books in stock:98\n"
     ]
    }
   ],
   "source": [
    "in_stock = df[df['availability']== True].shape[0]\n",
    "print(f'Number of books in stock:{in_stock}')"
   ]
  },
  {
   "cell_type": "markdown",
   "id": "f45a905f",
   "metadata": {},
   "source": [
    "# Q10.\tWhat is the correlation between availability and price (if converted numerically)?"
   ]
  },
  {
   "cell_type": "code",
   "execution_count": 27,
   "id": "dec64832",
   "metadata": {},
   "outputs": [
    {
     "data": {
      "text/plain": [
       "0      51.77\n",
       "1      53.74\n",
       "2      50.10\n",
       "3      47.82\n",
       "4      54.23\n",
       "       ...  \n",
       "995    55.53\n",
       "996    57.06\n",
       "997    16.97\n",
       "998    53.98\n",
       "999    26.08\n",
       "Name: Price, Length: 1000, dtype: float64"
      ]
     },
     "execution_count": 27,
     "metadata": {},
     "output_type": "execute_result"
    }
   ],
   "source": [
    "df.Price"
   ]
  },
  {
   "cell_type": "code",
   "execution_count": 28,
   "id": "d6dd1c36",
   "metadata": {},
   "outputs": [
    {
     "name": "stdout",
     "output_type": "stream",
     "text": [
      "Correlation between availability and price: nan\n"
     ]
    }
   ],
   "source": [
    "df['availability'] = df['availability'].map({'Yes':1,'No':0})\n",
    "corr = df['availability'].corr(df['Price'])\n",
    "print(f'Correlation between availability and price: {corr}')"
   ]
  }
 ],
 "metadata": {
  "kernelspec": {
   "display_name": "Python 3",
   "language": "python",
   "name": "python3"
  },
  "language_info": {
   "codemirror_mode": {
    "name": "ipython",
    "version": 3
   },
   "file_extension": ".py",
   "mimetype": "text/x-python",
   "name": "python",
   "nbconvert_exporter": "python",
   "pygments_lexer": "ipython3",
   "version": "3.12.10"
  }
 },
 "nbformat": 4,
 "nbformat_minor": 5
}
